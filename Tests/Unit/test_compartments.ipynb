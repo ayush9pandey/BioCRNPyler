{
 "cells": [
  {
   "cell_type": "code",
   "execution_count": 25,
   "metadata": {},
   "outputs": [
    {
     "name": "stdout",
     "output_type": "stream",
     "text": [
      "default\n"
     ]
    },
    {
     "name": "stderr",
     "output_type": "stream",
     "text": [
      "C:\\Users\\ayush\\Box\\Research\\bioCRNpyler\\biocrnpyler\\parameter.py:507: UserWarning: parameter file contains no unit column! Please add a column named ['unit', 'units'].\n",
      "  warn(f\"parameter file contains no {accepted_name} column! Please add a \"\n"
     ]
    },
    {
     "ename": "AssertionError",
     "evalue": "",
     "output_type": "error",
     "traceback": [
      "\u001b[1;31m---------------------------------------------------------------------------\u001b[0m",
      "\u001b[1;31mAssertionError\u001b[0m                            Traceback (most recent call last)",
      "Cell \u001b[1;32mIn[25], line 26\u001b[0m\n\u001b[0;32m     24\u001b[0m CRN \u001b[38;5;241m=\u001b[39m E\u001b[38;5;241m.\u001b[39mcompile_crn() \u001b[38;5;66;03m#comple CRN\u001b[39;00m\n\u001b[0;32m     25\u001b[0m \u001b[38;5;28mprint\u001b[39m(CRN\u001b[38;5;241m.\u001b[39mget_all_species_containing(E\u001b[38;5;241m.\u001b[39mrnap\u001b[38;5;241m.\u001b[39mspecies)[\u001b[38;5;241m0\u001b[39m]\u001b[38;5;241m.\u001b[39mcompartment\u001b[38;5;241m.\u001b[39mname)\n\u001b[1;32m---> 26\u001b[0m \u001b[38;5;28;01massert\u001b[39;00m E\u001b[38;5;241m.\u001b[39mrnap\u001b[38;5;241m.\u001b[39mspecies\u001b[38;5;241m.\u001b[39mcompartment\u001b[38;5;241m.\u001b[39mname \u001b[38;5;241m==\u001b[39m \u001b[38;5;124m\"\u001b[39m\u001b[38;5;124mInternal_0\u001b[39m\u001b[38;5;124m\"\u001b[39m\n\u001b[0;32m     27\u001b[0m \u001b[38;5;28;01mwith\u001b[39;00m tempfile\u001b[38;5;241m.\u001b[39mNamedTemporaryFile(suffix\u001b[38;5;241m=\u001b[39m\u001b[38;5;124m'\u001b[39m\u001b[38;5;124m.xml\u001b[39m\u001b[38;5;124m'\u001b[39m, delete\u001b[38;5;241m=\u001b[39m\u001b[38;5;28;01mFalse\u001b[39;00m) \u001b[38;5;28;01mas\u001b[39;00m tmp:\n\u001b[0;32m     28\u001b[0m     CRN\u001b[38;5;241m.\u001b[39mwrite_sbml_file(tmp\u001b[38;5;241m.\u001b[39mname)\n",
      "\u001b[1;31mAssertionError\u001b[0m: "
     ]
    }
   ],
   "source": [
    "from biocrnpyler.components.dna import DNAassembly, ActivatablePromoter\n",
    "from biocrnpyler.mixtures import EnergyTxTlExtract\n",
    "from biocrnpyler import Species, Compartment\n",
    "import libsbml\n",
    "import tempfile\n",
    "import copy\n",
    "\n",
    "activator = Species(\"T7RNAP\", material_type = \"small_molecule\")\n",
    "hill_parameters = {\"k\":1.0, \"n\":4, \"K\":20, \"kleak\":0.0001}\n",
    "P_activatable = ActivatablePromoter(\"P_activtable\", activator = activator,\n",
    "                                    leak = False, parameters = hill_parameters)\n",
    "activatable_assembly = DNAassembly(\"activatable_assembly\",\n",
    "                                   promoter = P_activatable, rbs = \"rbs\",\n",
    "                                   initial_concentration = 1*10**-3, \n",
    "                                   protein= \"GFP\")\n",
    "\n",
    "\n",
    "E = EnergyTxTlExtract(components=[activatable_assembly],\n",
    "                      parameter_file = \"../../examples/Specialized Tutorials/txtl_toolbox_parameters.txt\")\n",
    "assert E.rnap.species.compartment.name == \"default\"\n",
    "CRN = E.compile_crn() #comple CRN\n",
    "test_species = copy.deepcopy(E.rnap.species)\n",
    "test_species.compartment = Compartment(name=\"Internal_0\")\n",
    "CRN = E.compile_crn() #comple CRN\n",
    "print(CRN.get_all_species_containing(E.rnap.species)[0].compartment.name)\n",
    "assert E.rnap.species.compartment.name == \"Internal_0\"\n",
    "with tempfile.NamedTemporaryFile(suffix='.xml', delete=False) as tmp:\n",
    "    CRN.write_sbml_file(tmp.name)\n",
    "    model = libsbml.readSBMLFromFile(tmp.name).getModel()\n",
    "    sbml_species = model.getSpecies(0)\n",
    "    print(sbml_species.getCompartment())\n",
    "    assert sbml_species.getCompartment() == \"Internal_0\""
   ]
  },
  {
   "cell_type": "code",
   "execution_count": null,
   "metadata": {},
   "outputs": [],
   "source": []
  }
 ],
 "metadata": {
  "kernelspec": {
   "display_name": "base",
   "language": "python",
   "name": "python3"
  },
  "language_info": {
   "codemirror_mode": {
    "name": "ipython",
    "version": 3
   },
   "file_extension": ".py",
   "mimetype": "text/x-python",
   "name": "python",
   "nbconvert_exporter": "python",
   "pygments_lexer": "ipython3",
   "version": "3.11.5"
  }
 },
 "nbformat": 4,
 "nbformat_minor": 2
}
