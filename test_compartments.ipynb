{
 "cells": [
  {
   "cell_type": "code",
   "execution_count": 1,
   "metadata": {},
   "outputs": [
    {
     "name": "stderr",
     "output_type": "stream",
     "text": [
      "c:\\Users\\ayush\\Box\\Research\\bioCRNpyler\\biocrnpyler\\core\\parameter.py:507: UserWarning: parameter file contains no unit column! Please add a column named ['unit', 'units'].\n",
      "  warn(f\"parameter file contains no {accepted_name} column! Please add a \"\n"
     ]
    }
   ],
   "source": [
    "from biocrnpyler.components.dna import DNAassembly, ActivatablePromoter\n",
    "from biocrnpyler.mixtures import EnergyTxTlExtract, SimpleTxTlExtract, ExpressionExtract, TxTlExtract, ExpressionDilutionMixture, TxTlDilutionMixture\n",
    "from biocrnpyler import Compartment\n",
    "from biocrnpyler import Species, Component\n",
    "import tempfile\n",
    "import libsbml\n",
    "\n",
    "activator = Species(\"T7RNAP\", material_type = \"small_molecule\")\n",
    "hill_parameters = {\"k\":1.0, \"n\":4, \"K\":20, \"kleak\":0.0001}\n",
    "P_activatable = ActivatablePromoter(\"P_activtable\", activator = activator,\n",
    "                                    leak = False, parameters = hill_parameters)\n",
    "activatable_assembly = DNAassembly(\"activatable_assembly\",\n",
    "                                   promoter = P_activatable, rbs = \"rbs\",\n",
    "                                   initial_concentration = 1*10**-3, \n",
    "                                   protein= \"GFP\")\n",
    "# E = TxTlDilutionMixture(components=[activatable_assembly],\n",
    "#                       parameter_file = \"default_parameters.txt\")\n",
    "E = EnergyTxTlExtract(components=[activatable_assembly],\n",
    "                      parameter_file = \"examples/Specialized Tutorials/txtl_toolbox_parameters.txt\")\n",
    "CRN1 = E.compile_crn() #comple CRN\n",
    "new_compartment = Compartment(\"Internal_0\")\n",
    "E.compartment = new_compartment\n",
    "CRN2 = E.compile_crn() #compile CRN\n",
    "CRN1.write_sbml_file('CRN1.xml')\n",
    "CRN2.write_sbml_file('CRN2.xml')\n",
    "\n",
    "model1 = libsbml.readSBMLFromFile('CRN1.xml').getModel()\n",
    "model2 = libsbml.readSBMLFromFile('CRN2.xml').getModel()\n",
    "\n",
    "all_species1 = model1.getListOfSpecies()\n",
    "all_species2 = model2.getListOfSpecies()\n",
    "\n",
    "# check that all species are in the new compartment\n",
    "problem_species = []\n",
    "for s1, s2 in zip(all_species1, all_species2):\n",
    "    # if s1.getName() != s2.getName():\n",
    "        # print(\"%s does not have same name as %s\" %(s1.name, s2.name))\n",
    "    compartment1 = s1.getCompartment()\n",
    "    compartment2 = s2.getCompartment()\n",
    "    if compartment1 == compartment2:\n",
    "        print(\"For %s original compartment is %s and new is %s\" %(s1.name, compartment1, compartment2))"
   ]
  },
  {
   "cell_type": "code",
   "execution_count": 9,
   "metadata": {},
   "outputs": [
    {
     "data": {
      "text/plain": [
       "[dna[activatable_assembly] --> dna[activatable_assembly]+rna[activatable_assembly],\n",
       " rna[activatable_assembly]+protein[Ribo] <--> complex[protein[Ribo]:rna[activatable_assembly]],\n",
       " 4metabolite[NTPs]+metabolite[amino_acids]+complex[protein[Ribo]:rna[activatable_assembly]] --> 4metabolite[NTPs]+metabolite[amino_acids]+rna[activatable_assembly]+protein[Ribo]+protein[GFP],\n",
       " 4metabolite[NTPs]+metabolite[amino_acids]+complex[protein[Ribo]:rna[activatable_assembly]] --> complex[protein[Ribo]:rna[activatable_assembly]]+4metabolite[NDPs],\n",
       " metabolite[Fuel_3PGA]+metabolite[NDPs] --> metabolite[NTPs],\n",
       " metabolite[NTPs] --> metabolite[NDPs],\n",
       " rna[activatable_assembly]+protein[RNAase] <--> complex[protein[RNAase]:rna[activatable_assembly]],\n",
       " complex[protein[RNAase]:rna[activatable_assembly]] --> protein[RNAase],\n",
       " complex[protein[Ribo]:rna[activatable_assembly]]+protein[RNAase] <--> complex[complex[protein[Ribo]:rna[activatable_assembly]]:protein[RNAase]],\n",
       " complex[complex[protein[Ribo]:rna[activatable_assembly]]:protein[RNAase]] --> protein[Ribo]+protein[RNAase]]"
      ]
     },
     "execution_count": 9,
     "metadata": {},
     "output_type": "execute_result"
    }
   ],
   "source": [
    "CRN1.reactions"
   ]
  },
  {
   "cell_type": "code",
   "execution_count": 8,
   "metadata": {},
   "outputs": [
    {
     "data": {
      "text/plain": [
       "[dna[activatable_assembly] --> dna[activatable_assembly]+rna[activatable_assembly],\n",
       " rna[activatable_assembly]+protein[Ribo] <--> complex[protein[Ribo]:rna[activatable_assembly]],\n",
       " 4metabolite[NTPs]+metabolite[amino_acids]+complex[protein[Ribo]:rna[activatable_assembly]] --> 4metabolite[NTPs]+metabolite[amino_acids]+rna[activatable_assembly]+protein[Ribo]+protein[GFP],\n",
       " 4metabolite[NTPs]+metabolite[amino_acids]+complex[protein[Ribo]:rna[activatable_assembly]] --> complex[protein[Ribo]:rna[activatable_assembly]]+4metabolite[NDPs],\n",
       " metabolite[Fuel_3PGA]+metabolite[NDPs] --> metabolite[NTPs],\n",
       " metabolite[NTPs] --> metabolite[NDPs],\n",
       " rna[activatable_assembly]+protein[RNAase] <--> complex[protein[RNAase]:rna[activatable_assembly]],\n",
       " complex[protein[RNAase]:rna[activatable_assembly]] --> protein[RNAase],\n",
       " complex[protein[Ribo]:rna[activatable_assembly]]+protein[RNAase] <--> complex[complex[protein[Ribo]:rna[activatable_assembly]]:protein[RNAase]],\n",
       " complex[complex[protein[Ribo]:rna[activatable_assembly]]:protein[RNAase]] --> protein[Ribo]+protein[RNAase]]"
      ]
     },
     "execution_count": 8,
     "metadata": {},
     "output_type": "execute_result"
    }
   ],
   "source": [
    "CRN2.reactions"
   ]
  },
  {
   "cell_type": "code",
   "execution_count": 47,
   "metadata": {},
   "outputs": [
    {
     "data": {
      "text/plain": [
       "complex_protein_Ribo_rna_activatable_assembly_Internal_0_"
      ]
     },
     "execution_count": 47,
     "metadata": {},
     "output_type": "execute_result"
    }
   ],
   "source": [
    "CRN2.species[0]"
   ]
  },
  {
   "cell_type": "code",
   "execution_count": 46,
   "metadata": {},
   "outputs": [
    {
     "data": {
      "text/plain": [
       "complex_protein_Ribo_rna_activatable_assembly_Internal_0_"
      ]
     },
     "execution_count": 46,
     "metadata": {},
     "output_type": "execute_result"
    }
   ],
   "source": [
    "CRN2.species[3]"
   ]
  },
  {
   "cell_type": "code",
   "execution_count": 45,
   "metadata": {},
   "outputs": [
    {
     "data": {
      "text/plain": [
       "complex_protein_Ribo_rna_activatable_assembly_Internal_0_"
      ]
     },
     "execution_count": 45,
     "metadata": {},
     "output_type": "execute_result"
    }
   ],
   "source": [
    "CRN2.species[4]"
   ]
  },
  {
   "cell_type": "code",
   "execution_count": 1,
   "metadata": {},
   "outputs": [
    {
     "data": {
      "text/plain": [
       "True"
      ]
     },
     "execution_count": 1,
     "metadata": {},
     "output_type": "execute_result"
    }
   ],
   "source": [
    "from biocrnpyler.components import Enzyme\n",
    "from biocrnpyler.mechanisms import BasicCatalysis\n",
    "from biocrnpyler.core import Mixture, Compartment\n",
    "\n",
    "default_parameters = {\"kb\":100, \"ku\":10, \"kcat\":1.}\n",
    "enzyme = Enzyme(\"E\", substrates = \"S\", products = \"P\")\n",
    "mech_cat = BasicCatalysis()\n",
    "default_mechanisms = {mech_cat.mechanism_type:mech_cat}\n",
    "\n",
    "M = Mixture(\"Catalysis\", components = [enzyme],\n",
    "            parameters = default_parameters, mechanisms = default_mechanisms)\n",
    "CRN_1 = M.compile_crn()\n",
    "CRN_1.write_sbml_file(\"CRN_1.xml\")\n",
    "\n",
    "new_compartment = Compartment(\"Internal_1\")\n",
    "M.compartment = new_compartment \n",
    "# assert M.compartment.name == \"Internal_1\" # works\n",
    "\n",
    "# M.components[0].compartment = new_compartment\n",
    "# assert M.components[0].compartment.name == \"Internal_1\" # works\n",
    "\n",
    "CRN_2 = M.compile_crn()\n",
    "CRN_2.write_sbml_file(\"CRN_2.xml\") # this ends up being in default still, all species are in default compartment even though the component and mixture compartment was updated. \n",
    "\n",
    "\n",
    "# for s in CRN_2.species:\n",
    "#     s.compartment = new_compartment\n",
    "#     print(s) # prints species names appended with compartments (as expected) but updated CRN_3 sbml (see below) does not have these updated names.\n",
    "#     assert s.compartment.name == \"Internal_1\" # works for all species\n",
    "\n",
    "# CRN_2.write_sbml_file(\"CRN_3.xml\") # this still does not update compartment for all species. Because we did not update the objects in mixture and compilation had already happened."
   ]
  },
  {
   "cell_type": "code",
   "execution_count": 2,
   "metadata": {},
   "outputs": [
    {
     "data": {
      "text/plain": [
       "[protein_E_Internal_1, S_Internal_1, P_Internal_1]"
      ]
     },
     "execution_count": 2,
     "metadata": {},
     "output_type": "execute_result"
    }
   ],
   "source": [
    "CRN_2.species"
   ]
  },
  {
   "cell_type": "code",
   "execution_count": 3,
   "metadata": {},
   "outputs": [
    {
     "data": {
      "text/plain": [
       "[protein[E]+S --> protein[E]+P]"
      ]
     },
     "execution_count": 3,
     "metadata": {},
     "output_type": "execute_result"
    }
   ],
   "source": [
    "CRN_2.reactions"
   ]
  },
  {
   "cell_type": "code",
   "execution_count": 2,
   "metadata": {},
   "outputs": [
    {
     "data": {
      "text/plain": [
       "Species = protein_E, S, P\n",
       "Reactions = [\n",
       "\tprotein[E]+S --> protein[E]+P\n",
       "]"
      ]
     },
     "execution_count": 2,
     "metadata": {},
     "output_type": "execute_result"
    }
   ],
   "source": [
    "CRN_1"
   ]
  },
  {
   "cell_type": "code",
   "execution_count": 34,
   "metadata": {},
   "outputs": [
    {
     "data": {
      "text/plain": [
       "Enzyme: E"
      ]
     },
     "execution_count": 34,
     "metadata": {},
     "output_type": "execute_result"
    }
   ],
   "source": [
    "M.components[0]"
   ]
  },
  {
   "cell_type": "code",
   "execution_count": 17,
   "metadata": {},
   "outputs": [
    {
     "data": {
      "text/plain": [
       "[protein_E, S, P]"
      ]
     },
     "execution_count": 17,
     "metadata": {},
     "output_type": "execute_result"
    }
   ],
   "source": [
    "CRN_2.species"
   ]
  },
  {
   "cell_type": "code",
   "execution_count": 4,
   "metadata": {},
   "outputs": [
    {
     "name": "stderr",
     "output_type": "stream",
     "text": [
      "C:\\Users\\ayush\\Box\\Research\\bioCRNpyler\\biocrnpyler\\core\\parameter.py:507: UserWarning: parameter file contains no unit column! Please add a column named ['unit', 'units'].\n",
      "  warn(f\"parameter file contains no {accepted_name} column! Please add a \"\n"
     ]
    }
   ],
   "source": [
    "from biocrnpyler.components.dna import DNAassembly, ActivatablePromoter\n",
    "from biocrnpyler.mixtures import EnergyTxTlExtract, SimpleTxTlExtract, ExpressionExtract, TxTlExtract, ExpressionDilutionMixture, TxTlDilutionMixture\n",
    "from biocrnpyler import Compartment\n",
    "from biocrnpyler import Species, Component\n",
    "import tempfile\n",
    "import libsbml\n",
    "import os\n",
    "hill_parameters = {\"k\":1.0, \"n\":4, \"K\":20, \"kleak\":0.0001}\n",
    "P_activatable = ActivatablePromoter(\"P_activtable\", activator = \"activator\",\n",
    "                                    parameters = hill_parameters)\n",
    "activatable_assembly = DNAassembly(\"activatable_assembly\",\n",
    "                                promoter = P_activatable)\n",
    "E = EnergyTxTlExtract(components=[activatable_assembly],\n",
    "                        parameter_file=\"Specialized Tutorials/txtl_toolbox_parameters.txt\")\n",
    "CRN_1 = E.compile_crn()  # compile CRN\n",
    "\n",
    "new_compartment = Compartment(name=\"Internal_0\")\n",
    "CRN_2 = E.compile_crn(compartment=new_compartment)  # compile CRN\n",
    "\n",
    "assert len(CRN_1.species) == len(CRN_2.species)\n",
    "assert len(CRN_1.reactions) == len(CRN_2.reactions) \n",
    "\n",
    "# Assert SBML compartments\n",
    "with tempfile.NamedTemporaryFile(suffix='.xml', delete=False) as tmp:\n",
    "    CRN_1.write_sbml_file(tmp.name)\n",
    "    model = libsbml.readSBMLFromFile(tmp.name).getModel()\n",
    "    for sbml_species in model.getListOfSpecies():\n",
    "        assert sbml_species.getCompartment() == \"default\"\n",
    "os.remove(tmp.name)\n",
    "\n",
    "with tempfile.NamedTemporaryFile(suffix='.xml', delete=False) as tmp:\n",
    "    CRN_2.write_sbml_file(tmp.name)\n",
    "    model = libsbml.readSBMLFromFile(tmp.name).getModel()\n",
    "    for sbml_species in model.getListOfSpecies():\n",
    "        assert sbml_species.getCompartment() == \"Internal_0\"\n",
    "os.remove(tmp.name)"
   ]
  },
  {
   "cell_type": "markdown",
   "metadata": {},
   "source": [
    "after adding the species is now [protein_RNAase_Internal_0, rna_activatable_assembly_Internal_0, complex_protein_RNAase_Internal_0_rna_activatable_assembly_Internal_0_Internal_0_, protein_RNAase_Internal_0, complex_protein_Ribo_Internal_0_rna_activatable_assembly_Internal_0_Internal_0_, protein_Ribo_Internal_0, complex_complex_protein_Ribo_Internal_0_rna_activatable_assembly_Internal_0_Internal_0__protein_RNAase_Internal_0_Internal_0_, protein_RNAase_Internal_0, complex_protein_Ribo_Internal_0_rna_activatable_assembly_Internal_0_Internal_0_, protein_Ribo_Internal_0, complex_complex_protein_Ribo_Internal_0_rna_activatable_assembly_Internal_0_Internal_0__protein_RNAase_Internal_0_Internal_0_, protein_RNAase_Internal_0, complex_protein_Ribo_Internal_0_rna_activatable_assembly_Internal_0_, protein_Ribo_Internal_0, complex_complex_protein_Ribo_Internal_0_rna_activatable_assembly_Internal_0__protein_RNAase_Internal_0_Internal_0_]\n",
    "\n",
    "\n",
    "Current species list is {dna_activatable_assembly_Internal_0: True, small_molecule_T7RNAP_Internal_0: True, rna_activatable_assembly_Internal_0: True, metabolite_NTPs_Internal_0: True, metabolite_amino_acids_Internal_0: True, protein_Ribo_Internal_0: True, protein_GFP_Internal_0: True, complex_protein_Ribo_Internal_0_rna_activatable_assembly_Internal_0_Internal_0_: True, protein_RNAP_Internal_0: True, protein_RNAase_Internal_0: True, metabolite_Fuel_3PGA_Internal_0: True, metabolite_NDPs_Internal_0: True, complex_protein_Ribo_Internal_0_rna_activatable_assembly_Internal_0_Internal_0_: True, complex_protein_Ribo_rna_activatable_assembly_Internal_0_: True, complex_protein_RNAase_Internal_0_rna_activatable_assembly_Internal_0_Internal_0_: True, complex_complex_protein_Ribo_Internal_0_rna_activatable_assembly_Internal_0_Internal_0__protein_RNAase_Internal_0_Internal_0_: True, complex_complex_protein_Ribo_Internal_0_rna_activatable_assembly_Internal_0__protein_RNAase_Internal_0_Internal_0_: True} \n",
    "\n",
    "\n",
    "and x0 is [protein_RNAase_Internal_0, rna_activatable_assembly_Internal_0, complex_protein_RNAase_Internal_0_rna_activatable_assembly_Internal_0_Internal_0_, protein_RNAase_Internal_0, complex_protein_Ribo_Internal_0_rna_activatable_assembly_Internal_0_Internal_0_, protein_Ribo_Internal_0, complex_complex_protein_Ribo_Internal_0_rna_activatable_assembly_Internal_0_Internal_0__protein_RNAase_Internal_0_Internal_0_, protein_RNAase_Internal_0, complex_protein_Ribo_Internal_0_rna_activatable_assembly_Internal_0_Internal_0_, protein_Ribo_Internal_0, complex_complex_protein_Ribo_Internal_0_rna_activatable_assembly_Internal_0_Internal_0__protein_RNAase_Internal_0_Internal_0_, protein_RNAase_Internal_0, complex_protein_Ribo_Internal_0_rna_activatable_assembly_Internal_0_, protein_Ribo_Internal_0, complex_complex_protein_Ribo_Internal_0_rna_activatable_assembly_Internal_0__protein_RNAase_Internal_0_Internal_0_]\n"
   ]
  },
  {
   "cell_type": "markdown",
   "metadata": {},
   "source": [
    "Current species list is \n",
    "\n",
    "{dna_activatable_assembly_Internal_0: True, \n",
    "small_molecule_T7RNAP_Internal_0: True, rna_activatable_assembly_Internal_0: True, metabolite_NTPs_Internal_0: True, metabolite_amino_acids_Internal_0: True, protein_Ribo_Internal_0: True, protein_GFP_Internal_0: True, complex_protein_Ribo_Internal_0_rna_activatable_assembly_Internal_0_Internal_0_: True, protein_RNAP_Internal_0: True, protein_RNAase_Internal_0: True, metabolite_Fuel_3PGA_Internal_0: True, metabolite_NDPs_Internal_0: True, complex_protein_Ribo_Internal_0_rna_activatable_assembly_Internal_0_Internal_0_: True, complex_protein_Ribo_rna_activatable_assembly_Internal_0_: True, complex_protein_RNAase_Internal_0_rna_activatable_assembly_Internal_0_Internal_0_: True, complex_complex_protein_Ribo_Internal_0_rna_activatable_assembly_Internal_0_Internal_0__protein_RNAase_Internal_0_Internal_0_: True, complex_complex_protein_Ribo_Internal_0_rna_activatable_assembly_Internal_0__protein_RNAase_Internal_0_Internal_0_: True}\n",
    "\n",
    "x0 is {protein_RNAase_Internal_0: 0, rna_activatable_assembly_Internal_0: 0, complex_protein_RNAase_Internal_0_rna_activatable_assembly_Internal_0_Internal_0_: 0, complex_protein_Ribo_Internal_0_rna_activatable_assembly_Internal_0_Internal_0_: 0, protein_Ribo_Internal_0: 0, complex_complex_protein_Ribo_Internal_0_rna_activatable_assembly_Internal_0_Internal_0__protein_RNAase_Internal_0_Internal_0_: 0, complex_protein_Ribo_Internal_0_rna_activatable_assembly_Internal_0_: 0, complex_complex_protein_Ribo_Internal_0_rna_activatable_assembly_Internal_0__protein_RNAase_Internal_0_Internal_0_: 0}\n",
    "\n",
    "Current species list is {dna_activatable_assembly_Internal_0: True, small_molecule_T7RNAP_Internal_0: True, rna_activatable_assembly_Internal_0: True, metabolite_NTPs_Internal_0: True, metabolite_amino_acids_Internal_0: True, protein_Ribo_Internal_0: True, protein_GFP_Internal_0: True, complex_protein_Ribo_Internal_0_rna_activatable_assembly_Internal_0_Internal_0_: True, protein_RNAP_Internal_0: True, protein_RNAase_Internal_0: True, metabolite_Fuel_3PGA_Internal_0: True, metabolite_NDPs_Internal_0: True, complex_protein_Ribo_Internal_0_rna_activatable_assembly_Internal_0_Internal_0_: True, complex_protein_Ribo_rna_activatable_assembly_Internal_0_: True, complex_protein_RNAase_Internal_0_rna_activatable_assembly_Internal_0_Internal_0_: True, complex_complex_protein_Ribo_Internal_0_rna_activatable_assembly_Internal_0_Internal_0__protein_RNAase_Internal_0_Internal_0_: True, complex_complex_protein_Ribo_Internal_0_rna_activatable_assembly_Internal_0__protein_RNAase_Internal_0_Internal_0_: True}\n",
    "\n",
    "\n",
    "x0 is [protein_RNAase_Internal_0, rna_activatable_assembly_Internal_0, complex_protein_RNAase_Internal_0_rna_activatable_assembly_Internal_0_Internal_0_, protein_RNAase_Internal_0, complex_protein_Ribo_Internal_0_rna_activatable_assembly_Internal_0_Internal_0_, protein_Ribo_Internal_0, complex_complex_protein_Ribo_Internal_0_rna_activatable_assembly_Internal_0_Internal_0__protein_RNAase_Internal_0_Internal_0_, protein_RNAase_Internal_0, complex_protein_Ribo_Internal_0_rna_activatable_assembly_Internal_0_Internal_0_, protein_Ribo_Internal_0, complex_complex_protein_Ribo_Internal_0_rna_activatable_assembly_Internal_0_Internal_0__protein_RNAase_Internal_0_Internal_0_, protein_RNAase_Internal_0, complex_protein_Ribo_Internal_0_rna_activatable_assembly_Internal_0_, protein_Ribo_Internal_0, complex_complex_protein_Ribo_Internal_0_rna_activatable_assembly_Internal_0__protein_RNAase_Internal_0_Internal_0_]\n",
    "\n"
   ]
  },
  {
   "cell_type": "code",
   "execution_count": 2,
   "metadata": {},
   "outputs": [],
   "source": [
    "activatable_assembly.compartment"
   ]
  },
  {
   "cell_type": "code",
   "execution_count": 8,
   "metadata": {},
   "outputs": [],
   "source": [
    "from biocrnpyler import Mixture\n",
    "comp1 = Compartment(name=\"comp1\")\n",
    "comp2 = Compartment(name=\"comp2\") \n",
    "\n",
    "s1 = Species(\"S1\", compartment=comp1)\n",
    "mixture_1 = Mixture(species=[s1])\n",
    "crn_1 = mixture_1.compile_crn()\n",
    "crn_1.write_sbml_file(\"test_compartment_setter_1.xml\")\n",
    "# change compartment\n",
    "s1.compartment = comp2\n",
    "mixture_2 = Mixture(species=[s1])\n",
    "crn_2 = mixture_2.compile_crn()\n",
    "assert s1.compartment.name == \"comp2\"\n",
    "\n",
    "crn_2.write_sbml_file(\"test_compartment_setter_2.xml\")\n",
    "model = libsbml.readSBMLFromFile(\"test_compartment_setter_2.xml\").getModel()\n",
    "sbml_species = model.getSpecies(0)\n",
    "assert sbml_species.getCompartment() == \"comp2\""
   ]
  },
  {
   "cell_type": "code",
   "execution_count": null,
   "metadata": {},
   "outputs": [],
   "source": [
    "from biocrnpyler.core import Compartment\n",
    "from biocrnpyler.components import DNAassembly\n",
    "from biocrnpyler.mixtures import TxTlExtract\n",
    "import os\n",
    "import tempfile\n",
    "import libsbml\n",
    "# Create a component\n",
    "default_compartment = Compartment(name=\"default\")\n",
    "dna = DNAassembly(\"dna\", compartment=default_compartment)\n",
    "default_compartment2 = Compartment(name=\"default\")\n",
    "E = TxTlExtract(components=[dna], \n",
    "                parameter_file=\"../../examples/default_parameters.txt\", compartment=default_compartment2)\n",
    "assert E.rnap.species.compartment.name == \"default\"\n",
    "# new_compartment = Compartment(name=\"Internal_0\")\n",
    "# E.compartment = new_compartment\n",
    "# E.rnap.compartment = new_compartment\n",
    "# E.rnap.species.compartment = new_compartment\n",
    "# CRN = E.compile_crn()  # comple CRN\n",
    "# assert E.rnap.species.compartment.name == \"Internal_0\"\n",
    "# with tempfile.NamedTemporaryFile(suffix='.xml', delete=False) as tmp:\n",
    "#     CRN.write_sbml_file(tmp.name)\n",
    "#     model = libsbml.readSBMLFromFile(tmp.name).getModel()\n",
    "#     sbml_species = model.getSpecies(0)\n",
    "#     assert sbml_species.getCompartment() == \"Internal_0\"\n",
    "# os.remove(tmp.name)"
   ]
  },
  {
   "cell_type": "code",
   "execution_count": null,
   "metadata": {},
   "outputs": [],
   "source": [
    "E.compartment.name"
   ]
  }
 ],
 "metadata": {
  "kernelspec": {
   "display_name": "base",
   "language": "python",
   "name": "python3"
  },
  "language_info": {
   "codemirror_mode": {
    "name": "ipython",
    "version": 3
   },
   "file_extension": ".py",
   "mimetype": "text/x-python",
   "name": "python",
   "nbconvert_exporter": "python",
   "pygments_lexer": "ipython3",
   "version": "3.11.5"
  }
 },
 "nbformat": 4,
 "nbformat_minor": 2
}
