{
 "cells": [
  {
   "cell_type": "code",
   "execution_count": 1,
   "id": "893e67c7",
   "metadata": {},
   "outputs": [
    {
     "name": "stderr",
     "output_type": "stream",
     "text": [
      "c:\\Users\\ayush\\Box\\Research\\bioCRNpyler\\biocrnpyler\\core\\parameter.py:507: UserWarning: parameter file contains no unit column! Please add a column named ['unit', 'units'].\n",
      "  warn(f\"parameter file contains no {accepted_name} column! Please add a \"\n"
     ]
    }
   ],
   "source": [
    "from biocrnpyler import ActivatablePromoter, DNAassembly, EnergyTxTlExtract\n",
    "from biocrnpyler import Compartment, Species\n",
    "import libsbml\n",
    "import os\n",
    "import tempfile\n",
    "\n",
    "activator = Species(\"T7RNAP\", material_type = \"small_molecule\")\n",
    "hill_parameters = {\"k\":1.0, \"n\":4, \"K\":20, \"kleak\":0.0001}\n",
    "P_activatable = ActivatablePromoter(\"P_activtable\", activator = activator,\n",
    "                                    parameters = hill_parameters)\n",
    "activatable_assembly = DNAassembly(\"activatable_assembly\",\n",
    "                                   promoter = P_activatable, initial_concentration=10**-3)\n",
    "E = EnergyTxTlExtract(components=[activatable_assembly],\n",
    "                        parameter_file=\"examples/Specialized Tutorials/txtl_toolbox_parameters.txt\")\n",
    "CRN_1 = E.compile_crn()  # compile CRN\n",
    "\n",
    "new_compartment = Compartment(name=\"Internal_0\")\n",
    "CRN_2 = E.compile_crn(compartment=new_compartment)  # compile CRN\n",
    "\n",
    "# assert len(CRN_1.species) == len(CRN_2.species)\n",
    "# assert len(CRN_1.reactions) == len(CRN_2.reactions) \n",
    "\n",
    "# Assert SBML compartments\n",
    "with tempfile.NamedTemporaryFile(suffix='.xml', delete=False) as tmp:\n",
    "    CRN_1.write_sbml_file(tmp.name)\n",
    "    model = libsbml.readSBMLFromFile(tmp.name).getModel()\n",
    "    for sbml_species in model.getListOfSpecies():\n",
    "        assert sbml_species.getCompartment() == \"default\"\n",
    "os.remove(tmp.name)\n",
    "\n",
    "with tempfile.NamedTemporaryFile(suffix='.xml', delete=False) as tmp:\n",
    "    CRN_2.write_sbml_file(tmp.name)\n",
    "    model = libsbml.readSBMLFromFile(tmp.name).getModel()\n",
    "    for sbml_species in model.getListOfSpecies():\n",
    "        assert sbml_species.getCompartment() == \"Internal_0\"\n",
    "os.remove(tmp.name)\n",
    "        "
   ]
  },
  {
   "cell_type": "code",
   "execution_count": 2,
   "id": "191f9459",
   "metadata": {},
   "outputs": [
    {
     "data": {
      "text/plain": [
       "[protein_Ribo,\n",
       " dna_activatable_assembly,\n",
       " protein_RNAase,\n",
       " metabolite_amino_acids,\n",
       " rna_activatable_assembly,\n",
       " metabolite_Fuel_3PGA,\n",
       " protein_RNAP,\n",
       " metabolite_NDPs,\n",
       " small_molecule_T7RNAP,\n",
       " metabolite_NTPs,\n",
       " complex_protein_RNAase_rna_activatable_assembly_]"
      ]
     },
     "execution_count": 2,
     "metadata": {},
     "output_type": "execute_result"
    }
   ],
   "source": [
    "CRN_1.species"
   ]
  },
  {
   "cell_type": "code",
   "execution_count": 3,
   "id": "75fdff1b",
   "metadata": {},
   "outputs": [
    {
     "data": {
      "text/plain": [
       "[rna_activatable_assembly_Internal_0,\n",
       " metabolite_NTPs_Internal_0,\n",
       " complex_protein_RNAase_rna_activatable_assembly_Internal_0_,\n",
       " protein_Ribo_Internal_0,\n",
       " metabolite_amino_acids_Internal_0,\n",
       " metabolite_Fuel_3PGA_Internal_0,\n",
       " protein_RNAase_Internal_0,\n",
       " protein_RNAP_Internal_0,\n",
       " dna_activatable_assembly_Internal_0,\n",
       " metabolite_NDPs_Internal_0,\n",
       " small_molecule_T7RNAP_Internal_0]"
      ]
     },
     "execution_count": 3,
     "metadata": {},
     "output_type": "execute_result"
    }
   ],
   "source": [
    "CRN_2.species"
   ]
  },
  {
   "cell_type": "code",
   "execution_count": 4,
   "id": "1546f11c",
   "metadata": {},
   "outputs": [
    {
     "name": "stderr",
     "output_type": "stream",
     "text": [
      "c:\\Users\\ayush\\Box\\Research\\bioCRNpyler\\biocrnpyler\\core\\parameter.py:507: UserWarning: parameter file contains no unit column! Please add a column named ['unit', 'units'].\n",
      "  warn(f\"parameter file contains no {accepted_name} column! Please add a \"\n"
     ]
    }
   ],
   "source": [
    "hill_parameters = {\"k\":1.0, \"n\":4, \"K\":20, \"kleak\":0.0001}\n",
    "P_activatable = ActivatablePromoter(\"P_activtable\", activator = \"activator\",\n",
    "                                    parameters = hill_parameters)\n",
    "activatable_assembly = DNAassembly(\"activatable_assembly\",\n",
    "                                promoter = P_activatable)\n",
    "E = EnergyTxTlExtract(components=[activatable_assembly],\n",
    "                        parameter_file=\"examples/Specialized Tutorials/txtl_toolbox_parameters.txt\")\n",
    "CRN_1 = E.compile_crn()  # compile CRN\n",
    "\n",
    "new_compartment = Compartment(name=\"Internal_0\")\n",
    "CRN_2 = E.compile_crn(compartment=new_compartment)  # compile CRN\n",
    "\n",
    "assert len(CRN_1.species) == len(CRN_2.species)\n",
    "assert len(CRN_1.reactions) == len(CRN_2.reactions) \n",
    "\n",
    "# Assert SBML compartments\n",
    "with tempfile.NamedTemporaryFile(suffix='.xml', delete=False) as tmp:\n",
    "    CRN_1.write_sbml_file(tmp.name)\n",
    "    model = libsbml.readSBMLFromFile(tmp.name).getModel()\n",
    "    for sbml_species in model.getListOfSpecies():\n",
    "        assert sbml_species.getCompartment() == \"default\"\n",
    "os.remove(tmp.name)\n",
    "\n",
    "with tempfile.NamedTemporaryFile(suffix='.xml', delete=False) as tmp:\n",
    "    CRN_2.write_sbml_file(tmp.name)\n",
    "    model = libsbml.readSBMLFromFile(tmp.name).getModel()\n",
    "    for sbml_species in model.getListOfSpecies():\n",
    "        assert sbml_species.getCompartment() == \"Internal_0\"\n",
    "os.remove(tmp.name)"
   ]
  },
  {
   "cell_type": "code",
   "execution_count": 1,
   "id": "6c09147f",
   "metadata": {},
   "outputs": [],
   "source": [
    "from biocrnpyler import ChemicalReactionNetwork, Species\n",
    "S_1 = Species(\"S_1\")\n",
    "S_2 = Species(\"S_2\")\n",
    "CRN = ChemicalReactionNetwork([S_1], [])\n",
    "\n",
    "#Internal species copied correctly to return\n",
    "assert S_1 in CRN.species\n",
    "\n",
    "#assert species are copied to internal species set\n",
    "assert not S_1 is list(CRN._species_set)[0]\n",
    "\n",
    "#Returned list does not affect internal species\n",
    "CRN.species[0] = S_2\n",
    "assert S_2 not in CRN.species\n",
    "\n",
    "#add species affects internal species list\n",
    "CRN.add_species(S_2)\n",
    "assert S_2 in CRN.species\n",
    "#assert correct copying\n",
    "assert S_2 is not list(CRN._species_set)[1]\n",
    "\n",
    "\n",
    "\n",
    "#Test bypassing species protection\n",
    "CRN = ChemicalReactionNetwork([], [])\n",
    "CRN.add_species([S_1], copy_species = False)\n",
    "assert S_1 is list(CRN._species_set)[0]"
   ]
  },
  {
   "cell_type": "code",
   "execution_count": 2,
   "id": "878c99ea",
   "metadata": {},
   "outputs": [],
   "source": [
    "# check that this error is raised when trying to modify species\n",
    "from unittest import TestCase\n",
    "\n",
    "tc = TestCase()\n",
    "with tc.assertRaisesRegex(AttributeError, \"The species in a CRN cannot be removed or modified\"):\n",
    "    CRN.species = []"
   ]
  },
  {
   "cell_type": "code",
   "execution_count": 5,
   "id": "1b021c84",
   "metadata": {},
   "outputs": [],
   "source": [
    "CRN.species[0] = S_2"
   ]
  },
  {
   "cell_type": "code",
   "execution_count": 12,
   "id": "e1095ae0",
   "metadata": {},
   "outputs": [],
   "source": [
    "from biocrnpyler import ChemicalComplex, ParameterKey, ExpressionExtract\n",
    "from biocrnpyler import parameter_to_value\n",
    "\n",
    "S1 = Species(\"S1\")\n",
    "S2 = Species(\"S2\")\n",
    "\n",
    "C = ChemicalComplex([S1, S2], name = \"C\")\n",
    "S3 = C.get_species()\n",
    "\n",
    "mixture_name = \"M\"\n",
    "key1 = ParameterKey(mechanism = \"initial concentration\", part_id = mixture_name, name = str(S1))\n",
    "key2 = ParameterKey(mechanism = \"initial concentration\", part_id = mixture_name, name = str(S2))\n",
    "key3 = ParameterKey(mechanism = \"initial concentration\", part_id = mixture_name, name = str(S3))\n",
    "\n",
    "C = ChemicalComplex([S1, S2], name = \"C\", parameters = {key1:.11, key2:.22}, initial_concentration = .33)\n",
    "M = ExpressionExtract(name = mixture_name, components = [C], parameters = {key1:1.1, key2:2.2, key3:3.3, \"kb\":1.0, \"ku\":1.0})\n",
    "\n",
    "#Initial condition found under the Species name, in the Component, not Mixture\n",
    "CRN = M.compile_crn()\n",
    "#Initial condition found under the Species name, in the Component, not Mixture\n",
    "# assert parameter_to_value(CRN.initial_concentration_dict[S1]) == .11\n",
    "# assert parameter_to_value(CRN.initial_concentration_dict[S2]) == .22\n",
    "# assert parameter_to_value(CRN.initial_concentration_dict[S3]) == .33"
   ]
  },
  {
   "cell_type": "code",
   "execution_count": 16,
   "id": "749e8d51",
   "metadata": {},
   "outputs": [
    {
     "data": {
      "text/plain": [
       "2.2"
      ]
     },
     "execution_count": 16,
     "metadata": {},
     "output_type": "execute_result"
    }
   ],
   "source": [
    "parameter_to_value(CRN.initial_concentration_dict[S2])"
   ]
  }
 ],
 "metadata": {
  "kernelspec": {
   "display_name": "base",
   "language": "python",
   "name": "python3"
  },
  "language_info": {
   "codemirror_mode": {
    "name": "ipython",
    "version": 3
   },
   "file_extension": ".py",
   "mimetype": "text/x-python",
   "name": "python",
   "nbconvert_exporter": "python",
   "pygments_lexer": "ipython3",
   "version": "3.11.5"
  }
 },
 "nbformat": 4,
 "nbformat_minor": 5
}
